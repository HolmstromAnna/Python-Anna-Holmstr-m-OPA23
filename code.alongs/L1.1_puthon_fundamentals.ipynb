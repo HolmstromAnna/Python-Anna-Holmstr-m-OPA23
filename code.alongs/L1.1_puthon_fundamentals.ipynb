{
 "cells": [
  {
   "cell_type": "markdown",
   "metadata": {},
   "source": [
    "# Python fundanmentals continued"
   ]
  },
  {
   "cell_type": "markdown",
   "metadata": {},
   "source": [
    "## if-statements\n",
    "\n",
    "-if\n",
    "-if-else\n",
    "if-elif-elif-else\n",
    "-oneline if-statement"
   ]
  },
  {
   "cell_type": "code",
   "execution_count": 2,
   "metadata": {},
   "outputs": [
    {
     "name": "stdout",
     "output_type": "stream",
     "text": [
      "Accuracy level is 0.7, wich is a moderate perfomande\n"
     ]
    }
   ],
   "source": [
    "accuracy =.7\n",
    "\n",
    "if accuracy > .9:\n",
    "    model_perfomance = \"Good\"\n",
    "elif accuracy > .5:\n",
    "    model_perfomance =\"Moderate\"\n",
    "else:\n",
    "    model_perfomance = \"Bad\"\n",
    "\n",
    "print(f\"Accuracy level is {accuracy}, wich is a {model_perfomance.lower()} perfomande\")"
   ]
  },
  {
   "cell_type": "code",
   "execution_count": null,
   "metadata": {},
   "outputs": [],
   "source": [
    "# ternary operator: ? :\n",
    "performance = \"Good\" if accuracy > .9 else \"Not Good\"\n",
    "performance\n"
   ]
  },
  {
   "cell_type": "markdown",
   "metadata": {},
   "source": []
  }
 ],
 "metadata": {
  "kernelspec": {
   "display_name": "venv",
   "language": "python",
   "name": "python3"
  },
  "language_info": {
   "codemirror_mode": {
    "name": "ipython",
    "version": 3
   },
   "file_extension": ".py",
   "mimetype": "text/x-python",
   "name": "python",
   "nbconvert_exporter": "python",
   "pygments_lexer": "ipython3",
   "version": "3.11.7"
  }
 },
 "nbformat": 4,
 "nbformat_minor": 2
}
