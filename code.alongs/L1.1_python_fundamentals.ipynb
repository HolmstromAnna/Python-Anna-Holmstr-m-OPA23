{
 "cells": [
  {
   "cell_type": "markdown",
   "metadata": {},
   "source": [
    "# Python fundanmentals continued"
   ]
  },
  {
   "cell_type": "markdown",
   "metadata": {},
   "source": [
    "## if-statements\n",
    "\n",
    "-if\n",
    "-if-else\n",
    "if-elif-elif-else\n",
    "-oneline if-statement"
   ]
  },
  {
   "cell_type": "code",
   "execution_count": 1,
   "metadata": {},
   "outputs": [
    {
     "name": "stdout",
     "output_type": "stream",
     "text": [
      "Accuracy level is 0.7, wich is a moderate perfomande\n"
     ]
    }
   ],
   "source": [
    "accuracy =.7\n",
    "\n",
    "if accuracy > .9:\n",
    "    model_perfomance = \"Good\"\n",
    "elif accuracy > .5:\n",
    "    model_perfomance =\"Moderate\"\n",
    "else:\n",
    "    model_perfomance = \"Bad\"\n",
    "\n",
    "print(f\"Accuracy level is {accuracy}, wich is a {model_perfomance.lower()} perfomande\")"
   ]
  },
  {
   "cell_type": "code",
   "execution_count": 2,
   "metadata": {},
   "outputs": [
    {
     "data": {
      "text/plain": [
       "'Not Good'"
      ]
     },
     "execution_count": 2,
     "metadata": {},
     "output_type": "execute_result"
    }
   ],
   "source": [
    "# ternary operator: ? :\n",
    "performance = \"Good\" if accuracy > .9 else \"Not Good\"\n",
    "performance\n"
   ]
  },
  {
   "cell_type": "markdown",
   "metadata": {},
   "source": [
    "# while statement\n",
    "\"if-loop\"\n",
    "\n",
    "## Example - oil leakage\n",
    "There is an oil leakage causing the bird population in an island to 1/2 in each year. From start there were 80000 birds, how many years does it take for it to have 1/10 remaining?"
   ]
  },
  {
   "cell_type": "code",
   "execution_count": 3,
   "metadata": {},
   "outputs": [
    {
     "data": {
      "text/plain": [
       "4"
      ]
     },
     "execution_count": 3,
     "metadata": {},
     "output_type": "execute_result"
    }
   ],
   "source": [
    "birds = 80000\n",
    "year = 0\n",
    "\n",
    "while birds > 8000:\n",
    "    #assignment operator\n",
    "    birds /= 2 #birds = birds / 2\n",
    "    year += 1 # year = year +1 \n",
    "\n",
    "year"
   ]
  },
  {
   "cell_type": "markdown",
   "metadata": {},
   "source": []
  },
  {
   "cell_type": "markdown",
   "metadata": {},
   "source": [
    "## for statements"
   ]
  },
  {
   "cell_type": "code",
   "execution_count": 4,
   "metadata": {},
   "outputs": [
    {
     "name": "stdout",
     "output_type": "stream",
     "text": [
      "K-means\n",
      "PCA\n",
      "GMM\n"
     ]
    }
   ],
   "source": [
    "unsupervised_abbreviations = [\"K-means\", \"PCA\", \"GMM\"]\n",
    "unsupervised_algorithms = [\"K-means clustering\", \"Principal component analysis\", \"Gaussian Mixture Models\"]\n",
    "\n",
    "# iterate throuch a list \n",
    "for abbreviation in unsupervised_abbreviations:\n",
    "    print(abbreviation)"
   ]
  },
  {
   "cell_type": "code",
   "execution_count": 5,
   "metadata": {},
   "outputs": [
    {
     "name": "stdout",
     "output_type": "stream",
     "text": [
      "0 K-means\n",
      "1 PCA\n",
      "2 GMM\n"
     ]
    }
   ],
   "source": [
    "for i, abbreviation in enumerate(unsupervised_abbreviations):\n",
    "    print(i, abbreviation) ## funkar ej kontrollera "
   ]
  },
  {
   "cell_type": "code",
   "execution_count": 6,
   "metadata": {},
   "outputs": [
    {
     "name": "stdout",
     "output_type": "stream",
     "text": [
      "1 K-means\n",
      "2 PCA\n",
      "3 GMM\n"
     ]
    }
   ],
   "source": [
    "for i, abbreviation in enumerate(unsupervised_abbreviations, 1):\n",
    "    print(i, abbreviation) ## funkar ej kontrollera"
   ]
  },
  {
   "cell_type": "code",
   "execution_count": 7,
   "metadata": {},
   "outputs": [
    {
     "name": "stdout",
     "output_type": "stream",
     "text": [
      "K-means: K-means clustering\n",
      "PCA: Principal component analysis\n",
      "GMM: Gaussian Mixture Models\n"
     ]
    }
   ],
   "source": [
    "for abbreviation, full_name in zip(unsupervised_abbreviations, unsupervised_algorithms):\n",
    "    print(f\"{abbreviation}: {full_name}\")"
   ]
  },
  {
   "cell_type": "code",
   "execution_count": 8,
   "metadata": {},
   "outputs": [
    {
     "name": "stdout",
     "output_type": "stream",
     "text": [
      "0 hej\n",
      "1 hej\n",
      "2 hej\n",
      "3 hej\n",
      "4 hej\n"
     ]
    }
   ],
   "source": [
    "for i in range(5):\n",
    "    print(i, \"hej\")"
   ]
  },
  {
   "cell_type": "markdown",
   "metadata": {},
   "source": [
    "## Dictionary\n",
    "\n",
    "- mapping keys to values \n",
    "- a value is associated with a key "
   ]
  },
  {
   "cell_type": "markdown",
   "metadata": {},
   "source": [
    "unsupervised_learning"
   ]
  },
  {
   "cell_type": "code",
   "execution_count": 1,
   "metadata": {},
   "outputs": [
    {
     "data": {
      "text/plain": [
       "{'name': 'Anna', 'age': 31, 'loves_math': True}"
      ]
     },
     "execution_count": 1,
     "metadata": {},
     "output_type": "execute_result"
    }
   ],
   "source": [
    "person1 = dict(name = \"Anna\", age = 31, loves_math = True)\n",
    "person1"
   ]
  },
  {
   "cell_type": "code",
   "execution_count": 2,
   "metadata": {},
   "outputs": [
    {
     "data": {
      "text/plain": [
       "dict_keys(['name', 'age', 'loves_math'])"
      ]
     },
     "execution_count": 2,
     "metadata": {},
     "output_type": "execute_result"
    }
   ],
   "source": [
    "person1.keys()"
   ]
  },
  {
   "cell_type": "code",
   "execution_count": null,
   "metadata": {},
   "outputs": [],
   "source": [
    "person1[\"name\"], person1[\"loves_math\"]"
   ]
  },
  {
   "cell_type": "code",
   "execution_count": null,
   "metadata": {},
   "outputs": [],
   "source": [
    "for key in person1:\n",
    "    print(key, \":\",person1[key])"
   ]
  },
  {
   "cell_type": "code",
   "execution_count": null,
   "metadata": {},
   "outputs": [],
   "source": [
    "for key, value in person1.items():\n",
    "    print(f\"{key}: {value}\")"
   ]
  },
  {
   "cell_type": "code",
   "execution_count": null,
   "metadata": {},
   "outputs": [],
   "source": [
    "# syntax with {} to create dictionary\n",
    "person2 = {\"name\":\"Anna\", \"age\":31, \"loves_math\":True}\n",
    "person2"
   ]
  },
  {
   "cell_type": "code",
   "execution_count": null,
   "metadata": {},
   "outputs": [],
   "source": [
    "person1 == person2"
   ]
  },
  {
   "cell_type": "code",
   "execution_count": null,
   "metadata": {},
   "outputs": [],
   "source": [
    "## two different memory adresses for the different objects \n",
    "hex(id(person1)), hex(id(person2))"
   ]
  },
  {
   "cell_type": "code",
   "execution_count": null,
   "metadata": {},
   "outputs": [],
   "source": []
  }
 ],
 "metadata": {
  "kernelspec": {
   "display_name": "venv",
   "language": "python",
   "name": "python3"
  },
  "language_info": {
   "codemirror_mode": {
    "name": "ipython",
    "version": 3
   },
   "file_extension": ".py",
   "mimetype": "text/x-python",
   "name": "python",
   "nbconvert_exporter": "python",
   "pygments_lexer": "ipython3",
   "version": "3.11.7"
  }
 },
 "nbformat": 4,
 "nbformat_minor": 2
}
