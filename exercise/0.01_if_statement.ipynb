{
 "cells": [
  {
   "cell_type": "markdown",
   "metadata": {},
   "source": [
    "## 0. Check sign (*)\n",
    "Ask the user to input a number and check if this number is positive, negative or zero and print it out."
   ]
  },
  {
   "cell_type": "code",
   "execution_count": null,
   "metadata": {},
   "outputs": [],
   "source": [
    "number = int (input(\"Write a number\"))\n",
    "if number > 0:\n",
    "    print(\"It's positive\")\n",
    "elif number < 0:\n",
    "    print(\"It's negative\")\n",
    "else:\n",
    "    print(\"It's 0!!!!\")"
   ]
  },
  {
   "cell_type": "markdown",
   "metadata": {},
   "source": [
    "## 1. Smallest (*)\n",
    "Ask the user to input two numbers and check which one is the smallest and print it out."
   ]
  },
  {
   "cell_type": "code",
   "execution_count": 6,
   "metadata": {},
   "outputs": [
    {
     "name": "stdout",
     "output_type": "stream",
     "text": [
      "The numbers are the same\n"
     ]
    }
   ],
   "source": [
    "number1 = int (input(\"Write first number\"))\n",
    "number2 = int (input(\"Write second number\"))\n",
    "if number1 < number2:\n",
    "    print(f\"{number1} is the smallest\")\n",
    "elif number2 < number1:\n",
    "    print(f\"{number2} is the smallest\")\n",
    "else:\n",
    "    print(\"The numbers are the same\")\n"
   ]
  },
  {
   "cell_type": "markdown",
   "metadata": {},
   "source": [
    "## 2. Right angle (*)\n",
    "Ask the user to input three angles and check if the triangle has a right angle. Your code should make sure that all three angles are valid and make up a triangle."
   ]
  },
  {
   "cell_type": "code",
   "execution_count": null,
   "metadata": {},
   "outputs": [],
   "source": [
    "a_input = int(input(\"skriv nummer\"))\n",
    "b_input = int(input(\"Skriv ett till\"))\n",
    "c_input = int(input(\"En till\"))\n",
    "\n",
    "d = a_input + b_input + c_input\n",
    "\n",
    "if d == 180:\n",
    "    print(f\"Det blir en triangel\")\n",
    "else:\n",
    "    print(f\"Du har fel\")"
   ]
  },
  {
   "attachments": {
    "image.png": {
     "image/png": "[encoded data removed]"
    }
   },
   "cell_type": "markdown",
   "metadata": {},
   "source": [
    "3. Medicine (*)\n",
    "The information in the following table is stated in a medicine package. Also it is stated that for children weight is more important than age.\n",
    "\n",
    "![image.png](attachment:image.png)\n",
    "- Let the user input an age and a weight, the program should recommend the number of pills for the user."
   ]
  },
  {
   "cell_type": "code",
   "execution_count": 8,
   "metadata": {},
   "outputs": [
    {
     "name": "stdout",
     "output_type": "stream",
     "text": [
      "Do not give your child this!\n"
     ]
    }
   ],
   "source": [
    "weight = int(input(\"Type your weight\"))\n",
    "age = int(input(\"Type your age\"))\n",
    "if weight < 15:\n",
    "    print(f\"Do not give your child this!\")\n",
    "elif 15 <= weight <=25:\n",
    "    print(f\"Take 1/2 a tablet\")\n",
    "elif 26 <= weight <=40:\n",
    "    print(f\"Take 1/2-1 tablet\")\n",
    "else:\n",
    "    print(f\"Take 1-2 tablets\")"
   ]
  },
  {
   "cell_type": "markdown",
   "metadata": {},
   "source": []
  }
 ],
 "metadata": {
  "kernelspec": {
   "display_name": "venv",
   "language": "python",
   "name": "python3"
  },
  "language_info": {
   "codemirror_mode": {
    "name": "ipython",
    "version": 3
   },
   "file_extension": ".py",
   "mimetype": "text/x-python",
   "name": "python",
   "nbconvert_exporter": "python",
   "pygments_lexer": "ipython3",
   "version": "3.11.7"
  }
 },
 "nbformat": 4,
 "nbformat_minor": 2
}
