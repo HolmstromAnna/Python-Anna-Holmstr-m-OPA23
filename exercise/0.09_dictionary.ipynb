{
 "cells": [
  {
   "cell_type": "markdown",
   "metadata": {},
   "source": [
    "## 0. Curriculum (*)\n",
    "- Create a dictionary containing all the courses that you will study in this program, with the course names as keys and the amount of points as value. Then calculate the number of points that you will study in total. (*)"
   ]
  },
  {
   "cell_type": "code",
   "execution_count": 3,
   "metadata": {},
   "outputs": [
    {
     "name": "stdout",
     "output_type": "stream",
     "text": [
      "60\n"
     ]
    }
   ],
   "source": [
    "courses = [\n",
    "    {\"course\": \"OOP-grund\", \"points\": 30},\n",
    "    {\"course\": \"agilt\", \"points\": 10},\n",
    "    {\"course\": \"databaser\", \"points\": 20}\n",
    "]\n",
    "\n",
    "sum_ = sum(course[\"points\"] for course in courses)\n",
    "\n",
    "print(sum_)"
   ]
  },
  {
   "cell_type": "code",
   "execution_count": 7,
   "metadata": {},
   "outputs": [
    {
     "data": {
      "text/plain": [
       "dict_keys(['course', 'points'])"
      ]
     },
     "execution_count": 7,
     "metadata": {},
     "output_type": "execute_result"
    }
   ],
   "source": [
    "course1 = dict(course = \"OOP-grund\", points = 30, teacher = \"Krister\")\n",
    "course2 = dict(course = \"Agilt\", points = 10)\n",
    "course3 = dict(course = \"Databaser\", points = 30)\n",
    "\n",
    "course2.keys()"
   ]
  },
  {
   "cell_type": "code",
   "execution_count": null,
   "metadata": {},
   "outputs": [],
   "source": []
  }
 ],
 "metadata": {
  "kernelspec": {
   "display_name": "venv",
   "language": "python",
   "name": "python3"
  },
  "language_info": {
   "codemirror_mode": {
    "name": "ipython",
    "version": 3
   },
   "file_extension": ".py",
   "mimetype": "text/x-python",
   "name": "python",
   "nbconvert_exporter": "python",
   "pygments_lexer": "ipython3",
   "version": "3.11.7"
  }
 },
 "nbformat": 4,
 "nbformat_minor": 2
}
