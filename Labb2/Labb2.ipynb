{
 "cells": [
  {
   "cell_type": "markdown",
   "metadata": {},
   "source": [
    "### Reading file riket2023_åk9_np.xlsx and the sheets for the different subjects\n"
   ]
  },
  {
   "cell_type": "code",
   "execution_count": 2,
   "metadata": {},
   "outputs": [],
   "source": [
    "import pandas as pd\n",
    "\n",
    "# Read all sheets, skipping the first 7 rows\n",
    "all_sheets = pd.read_excel(\"riket2023_åk9_np.xlsx\", skiprows=8, sheet_name=None)     \n",
    "\n",
    "# Extract individual DataFrames for each sheet \n",
    "english = all_sheets[\"Engelska\"]\n",
    "mathematics = all_sheets[\"Matematik\"]\n",
    "swedish = all_sheets[\"Svenska\"]\n",
    "swedish_second = all_sheets[\"Svenska som andraspråk\"]"
   ]
  },
  {
   "cell_type": "markdown",
   "metadata": {},
   "source": [
    "### Renaming columns "
   ]
  },
  {
   "cell_type": "code",
   "execution_count": 3,
   "metadata": {},
   "outputs": [
    {
     "data": {
      "text/html": [
       "<div>\n",
       "<style scoped>\n",
       "    .dataframe tbody tr th:only-of-type {\n",
       "        vertical-align: middle;\n",
       "    }\n",
       "\n",
       "    .dataframe tbody tr th {\n",
       "        vertical-align: top;\n",
       "    }\n",
       "\n",
       "    .dataframe thead th {\n",
       "        text-align: right;\n",
       "    }\n",
       "</style>\n",
       "<table border=\"1\" class=\"dataframe\">\n",
       "  <thead>\n",
       "    <tr style=\"text-align: right;\">\n",
       "      <th></th>\n",
       "      <th>Plats</th>\n",
       "      <th>Huvudman</th>\n",
       "      <th>Totalt (A-F)</th>\n",
       "      <th>Flickor (A-F)</th>\n",
       "      <th>Pojkar (A-F)</th>\n",
       "      <th>Totalt (A-E)</th>\n",
       "      <th>Flickor (A-E)</th>\n",
       "      <th>Pojkar (A-E)</th>\n",
       "      <th>Totalt (poäng)</th>\n",
       "      <th>Flickor (poäng)</th>\n",
       "      <th>Pojkar (poäng)</th>\n",
       "    </tr>\n",
       "  </thead>\n",
       "  <tbody>\n",
       "    <tr>\n",
       "      <th>0</th>\n",
       "      <td>Riket</td>\n",
       "      <td>Samtliga</td>\n",
       "      <td>106941</td>\n",
       "      <td>51864</td>\n",
       "      <td>55077</td>\n",
       "      <td>97.0</td>\n",
       "      <td>97.1</td>\n",
       "      <td>97.0</td>\n",
       "      <td>15.7</td>\n",
       "      <td>15.8</td>\n",
       "      <td>15.7</td>\n",
       "    </tr>\n",
       "    <tr>\n",
       "      <th>1</th>\n",
       "      <td>Riket</td>\n",
       "      <td>Kommunal</td>\n",
       "      <td>84310</td>\n",
       "      <td>40675</td>\n",
       "      <td>43635</td>\n",
       "      <td>96.6</td>\n",
       "      <td>96.6</td>\n",
       "      <td>96.6</td>\n",
       "      <td>15.4</td>\n",
       "      <td>15.5</td>\n",
       "      <td>15.4</td>\n",
       "    </tr>\n",
       "    <tr>\n",
       "      <th>2</th>\n",
       "      <td>Riket</td>\n",
       "      <td>Enskild</td>\n",
       "      <td>22582</td>\n",
       "      <td>11165</td>\n",
       "      <td>11417</td>\n",
       "      <td>98.7</td>\n",
       "      <td>98.8</td>\n",
       "      <td>98.7</td>\n",
       "      <td>16.9</td>\n",
       "      <td>17.0</td>\n",
       "      <td>16.8</td>\n",
       "    </tr>\n",
       "    <tr>\n",
       "      <th>3</th>\n",
       "      <td>Riket</td>\n",
       "      <td>Skolverket</td>\n",
       "      <td>49</td>\n",
       "      <td>24</td>\n",
       "      <td>25</td>\n",
       "      <td>100.0</td>\n",
       "      <td>100.0</td>\n",
       "      <td>100.0</td>\n",
       "      <td>18.5</td>\n",
       "      <td>18.9</td>\n",
       "      <td>18.2</td>\n",
       "    </tr>\n",
       "  </tbody>\n",
       "</table>\n",
       "</div>"
      ],
      "text/plain": [
       "   Plats    Huvudman  Totalt (A-F)  Flickor (A-F)  Pojkar (A-F)  Totalt (A-E)  \\\n",
       "0  Riket    Samtliga        106941          51864         55077          97.0   \n",
       "1  Riket    Kommunal         84310          40675         43635          96.6   \n",
       "2  Riket     Enskild         22582          11165         11417          98.7   \n",
       "3  Riket  Skolverket            49             24            25         100.0   \n",
       "\n",
       "   Flickor (A-E)  Pojkar (A-E)  Totalt (poäng)  Flickor (poäng)  \\\n",
       "0           97.1          97.0            15.7             15.8   \n",
       "1           96.6          96.6            15.4             15.5   \n",
       "2           98.8          98.7            16.9             17.0   \n",
       "3          100.0         100.0            18.5             18.9   \n",
       "\n",
       "   Pojkar (poäng)  \n",
       "0            15.7  \n",
       "1            15.4  \n",
       "2            16.8  \n",
       "3            18.2  "
      ]
     },
     "execution_count": 3,
     "metadata": {},
     "output_type": "execute_result"
    }
   ],
   "source": [
    "# Function for renaming columns \n",
    "def rename_columns(df):\n",
    "    # Define a list of new column names \n",
    "    new_columns = [\n",
    "        'Plats',  \n",
    "        'Huvudman',  \n",
    "        'Totalt (A-F)',  \n",
    "        'Flickor (A-F)',  \n",
    "        'Pojkar (A-F)',  \n",
    "        'Totalt (A-E)',  \n",
    "        'Flickor (A-E)',  \n",
    "        'Pojkar (A-E)',  \n",
    "        'Totalt (poäng)',  \n",
    "        'Flickor (poäng)', \n",
    "        'Pojkar (poäng)'\n",
    "    ]\n",
    "    \n",
    "    # Rename the columns of the DataFrame using the list of new column names\n",
    "    df.columns = new_columns\n",
    "     # Filter out rows with Huvudman \"Skolverket\" only for the DataFrame for Swedish as second language\n",
    "    if df is swedish_second and \"Skolverket\" in df[\"Huvudman\"].values:\n",
    "        df = df[df[\"Huvudman\"] != \"Skolverket\"]\n",
    "    # Return the DataFrame with updated column names\n",
    "    return df\n",
    "\n",
    "# Use the function to rename columns for each DataFrame\n",
    "english = rename_columns(english)\n",
    "mathematics = rename_columns(mathematics)\n",
    "swedish = rename_columns(swedish)\n",
    "swedish_second = rename_columns(swedish_second)\n",
    "\n",
    "english\n"
   ]
  },
  {
   "cell_type": "markdown",
   "metadata": {},
   "source": [
    "### Number of students who received the grade F"
   ]
  },
  {
   "cell_type": "code",
   "execution_count": 4,
   "metadata": {},
   "outputs": [
    {
     "name": "stdout",
     "output_type": "stream",
     "text": [
      "Antal flickor som fått betyget F: 5825\n",
      "Antal pojkar som fått betyget F: 5798\n"
     ]
    }
   ],
   "source": [
    "# Extract number of girls with grades A-F\n",
    "girls_A_to_F = mathematics.loc[0, \"Flickor (A-F)\"]\n",
    "#Extract the percentage of girls with grades A-E and convert to a decimal\n",
    "girls_A_to_E = mathematics.loc[0, \"Flickor (A-E)\"] / 100  \n",
    "# Calculate number of girls with F by subtracting the percentage of girls with grades A to E from 1 and multiplying by the total number of girls with grades A to F\n",
    "girls_F = girls_A_to_F * (1 - girls_A_to_E)\n",
    "rounded_girls_F =round(girls_F)\n",
    "\n",
    "print(\"Antal flickor som fått betyget F:\", rounded_girls_F)\n",
    "\n",
    "# Extract number of girls with grades A-F\n",
    "boys_A_to_F = mathematics.loc[0, \"Pojkar (A-F)\"]\n",
    "#Extract the percentage of boys with grades A-E and convert to a decimal\n",
    "boys_A_to_E = mathematics.loc[0, \"Pojkar (A-E)\"] / 100\n",
    "# Calculate number of boys with F by subtracting the percentage of boys with grades A to E from 1 and multiplying by the total number of boys with grades A to F\n",
    "boys_F = boys_A_to_F * (1 - boys_A_to_E)\n",
    "rounded_boys_F =round(boys_F)\n",
    "\n",
    "print(\"Antal pojkar som fått betyget F:\", rounded_boys_F)"
   ]
  },
  {
   "cell_type": "markdown",
   "metadata": {},
   "source": [
    "### Bar chart of total points per subject "
   ]
  },
  {
   "cell_type": "code",
   "execution_count": 54,
   "metadata": {},
   "outputs": [
    {
     "name": "stderr",
     "output_type": "stream",
     "text": [
      "C:\\Users\\annah\\AppData\\Local\\Temp\\ipykernel_19072\\2383058396.py:18: UserWarning: set_ticklabels() should only be used with a fixed number of ticks, i.e. after set_ticks() or using a FixedLocator.\n",
      "  ax.set_xticklabels(subjects[:-1] + [subjects[-1].replace(\" \", \"\\n\")])\n"
     ]
    },
    {
     "data": {
      "image/png": "[encoded data removed]",
      "text/plain": [
       "<Figure size 800x500 with 1 Axes>"
      ]
     },
     "metadata": {},
     "output_type": "display_data"
    }
   ],
   "source": [
    "import matplotlib.pyplot as plt\n",
    "import seaborn as sns\n",
    "\n",
    "# Define subjects\n",
    "subjects = [\"English\", \"Mathematics\", \"Swedish\", \"Swedish as second language\"]\n",
    "# List of points\n",
    "points = [english.loc[0, \"Totalt (poäng)\"], \n",
    "          mathematics.loc[0, \"Totalt (poäng)\"], \n",
    "          swedish.loc[0, \"Totalt (poäng)\"], \n",
    "          swedish_second.loc[0, \"Totalt (poäng)\"]]\n",
    "\n",
    "# Create figure and axis objects\n",
    "fig, ax = plt.subplots()\n",
    "# Create a bar plot\n",
    "sns.barplot(x=subjects, y=points, color=\"#86A69D\",width = 0.7, ax=ax) \n",
    "# Set x-axis tick labels \n",
    "            #ax.set_xticklabels(subjects)      #rotation=45\n",
    "ax.set_xticklabels(subjects[:-1] + [subjects[-1].replace(\" \", \"\\n\")]) \n",
    "#Set x-axis label\n",
    "plt.xlabel(\"SUBJECTS\", loc=\"left\", color=\"#6b7280\", fontsize=12)\n",
    "# Set y-axis label\n",
    "plt.ylabel(\"POINTS\", loc=\"top\", color=\"#6b7280\", fontsize=12)\n",
    "# Set title\n",
    "plt.title(\"Total points per subject\",  loc=\"left\", pad=15, color=\"dimgray\", fontsize=18) \n",
    "#Remove and change lines\n",
    "ax.tick_params(axis=\"both\", colors=\"#6b7280\")\n",
    "ax.spines[\"top\"].set_visible(False)\n",
    "ax.spines[\"right\"].set_visible(False)\n",
    "ax.spines[\"left\"].set_color(\"#6b7280\")\n",
    "ax.spines[\"bottom\"].set_color(\"#6b7280\")\n",
    "\n",
    "fig.set_size_inches(8, 5)\n",
    "\n",
    "plt.show()"
   ]
  },
  {
   "cell_type": "code",
   "execution_count": null,
   "metadata": {},
   "outputs": [],
   "source": [
    "# Define subjects\n",
    "subjects = [\"English\", \"Mathematics\", \"Swedish\", \"Swedish as second language\"]\n",
    "# Define dataframes \n",
    "dataframes = [english, mathematics, swedish, swedish_second]\n",
    "# Define titles \n",
    "titles = [\"Samtliga\", \"Kommunal\", \"Enskild\", \"Skolverket\"]\n",
    "\n"
   ]
  }
 ],
 "metadata": {
  "kernelspec": {
   "display_name": "venv",
   "language": "python",
   "name": "python3"
  },
  "language_info": {
   "codemirror_mode": {
    "name": "ipython",
    "version": 3
   },
   "file_extension": ".py",
   "mimetype": "text/x-python",
   "name": "python",
   "nbconvert_exporter": "python",
   "pygments_lexer": "ipython3",
   "version": "3.11.7"
  }
 },
 "nbformat": 4,
 "nbformat_minor": 2
}
