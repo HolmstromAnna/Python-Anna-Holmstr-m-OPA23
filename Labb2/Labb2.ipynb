{
 "cells": [
  {
   "cell_type": "markdown",
   "metadata": {},
   "source": [
    "### Reading file riket2023_åk9_np.xlsx and the sheets for the different subjects\n"
   ]
  },
  {
   "cell_type": "code",
   "execution_count": 2,
   "metadata": {},
   "outputs": [],
   "source": [
    "import pandas as pd\n",
    "\n",
    "# Read all sheets, skipping the first 7 rows\n",
    "all_sheets = pd.read_excel(\"riket2023_åk9_np.xlsx\", skiprows=8, sheet_name=None)     \n",
    "\n",
    "# Extract individual DataFrames for each sheet \n",
    "english = all_sheets['Engelska']\n",
    "mathematics = all_sheets['Matematik']\n",
    "swedish = all_sheets['Svenska']\n",
    "swedish_second = all_sheets['Svenska som andraspråk']\n"
   ]
  },
  {
   "cell_type": "markdown",
   "metadata": {},
   "source": [
    "### Renaming columns "
   ]
  },
  {
   "cell_type": "code",
   "execution_count": null,
   "metadata": {},
   "outputs": [],
   "source": [
    "# Function for renaming columns \n",
    "def rename_columns(df):\n",
    "    # Define a list of new column names \n",
    "    new_columns = [\n",
    "        'Plats',  \n",
    "        'Huvudman',  \n",
    "        'Totalt (A-F)',  \n",
    "        'Flickor (A-F)',  \n",
    "        'Pojkar (A-F)',  \n",
    "        'Totalt (A-E)',  \n",
    "        'Flickor (A-E)',  \n",
    "        'Pojkar (A-E)',  \n",
    "        'Totalt (poäng)',  \n",
    "        'Flickor (poäng)', \n",
    "        'Pojkar (poäng)'\n",
    "    ]\n",
    "    \n",
    "    # Rename the columns of the DataFrame using the list of new column names\n",
    "    df.columns = new_columns\n",
    "    \n",
    "    # Return the DataFrame with updated column names\n",
    "    return df\n",
    "\n",
    "# Use the function to rename columns for each DataFrame\n",
    "english = rename_columns(english)\n",
    "mathematics = rename_columns(mathematics)\n",
    "swedish = rename_columns(swedish)\n",
    "swedish_second = rename_columns(swedish_second)"
   ]
  },
  {
   "cell_type": "markdown",
   "metadata": {},
   "source": [
    "### Number of students who received the grade F"
   ]
  },
  {
   "cell_type": "code",
   "execution_count": 9,
   "metadata": {},
   "outputs": [
    {
     "name": "stdout",
     "output_type": "stream",
     "text": [
      "Antal flickor som fått betyget F: 5825\n",
      "Antal pojkar som fått betyget F: 5798\n"
     ]
    }
   ],
   "source": [
    "# Extract number of girls with grades A-F\n",
    "girls_A_to_F = mathematics.loc[0, 'Flickor (A-F)']\n",
    "#Extract the percentage of girls with grades A-E and convert to a decimal\n",
    "girls_A_to_E = mathematics.loc[0, 'Flickor (A-E)'] / 100  \n",
    "# Calculate number of girls with F by subtracting the percentage of girls with grades A to E from 1 and multiplying by the total number of girls with grades A to F\n",
    "girls_F = girls_A_to_F * (1 - girls_A_to_E)\n",
    "rounded_girls_F =round(girls_F)\n",
    "\n",
    "print(\"Antal flickor som fått betyget F:\", rounded_girls_F)\n",
    "\n",
    "# Extract number of girls with grades A-F\n",
    "boys_A_to_F = mathematics.loc[0, 'Pojkar (A-F)']\n",
    "#Extract the percentage of boys with grades A-E and convert to a decimal\n",
    "boys_A_to_E = mathematics.loc[0, 'Pojkar (A-E)'] / 100\n",
    "# Calculate number of boys with F by subtracting the percentage of boys with grades A to E from 1 and multiplying by the total number of boys with grades A to F\n",
    "boys_F = boys_A_to_F * (1 - boys_A_to_E)\n",
    "rounded_boys_F =round(boys_F)\n",
    "\n",
    "print(\"Antal pojkar som fått betyget F:\", rounded_boys_F)"
   ]
  },
  {
   "cell_type": "code",
   "execution_count": null,
   "metadata": {},
   "outputs": [],
   "source": []
  }
 ],
 "metadata": {
  "kernelspec": {
   "display_name": "venv",
   "language": "python",
   "name": "python3"
  },
  "language_info": {
   "codemirror_mode": {
    "name": "ipython",
    "version": 3
   },
   "file_extension": ".py",
   "mimetype": "text/x-python",
   "name": "python",
   "nbconvert_exporter": "python",
   "pygments_lexer": "ipython3",
   "version": "3.11.7"
  }
 },
 "nbformat": 4,
 "nbformat_minor": 2
}
