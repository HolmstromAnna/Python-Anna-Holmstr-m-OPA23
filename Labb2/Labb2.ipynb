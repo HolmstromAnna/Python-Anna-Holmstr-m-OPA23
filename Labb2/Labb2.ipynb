{
 "cells": [
  {
   "cell_type": "code",
   "execution_count": null,
   "metadata": {},
   "outputs": [],
   "source": [
    "import pandas as pd\n",
    "\n",
    "# Read all sheets, skipping the first 7 rows\n",
    "all_sheets = pd.read_excel(\"riket2023_åk9_np.xlsx\", skiprows=7, sheet_name=None)     \n",
    "\n",
    "# Extract individual DataFrames for each sheet \n",
    "english = all_sheets['Engelska']\n",
    "mathematics = all_sheets['Matematik']\n",
    "swedish = all_sheets['Svenska']\n",
    "swedish_second = all_sheets['Svenska som andraspråk']"
   ]
  },
  {
   "cell_type": "code",
   "execution_count": null,
   "metadata": {},
   "outputs": [],
   "source": []
  }
 ],
 "metadata": {
  "kernelspec": {
   "display_name": "venv",
   "language": "python",
   "name": "python3"
  },
  "language_info": {
   "codemirror_mode": {
    "name": "ipython",
    "version": 3
   },
   "file_extension": ".py",
   "mimetype": "text/x-python",
   "name": "python",
   "nbconvert_exporter": "python",
   "pygments_lexer": "ipython3",
   "version": "3.11.7"
  }
 },
 "nbformat": 4,
 "nbformat_minor": 2
}
