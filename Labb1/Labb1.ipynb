{
 "cells": [
  {
   "cell_type": "markdown",
   "metadata": {},
   "source": [
    "### Read file and save data in a suitable data structure\n",
    "Clean and process data stored in text files containing measurements of two pokemons, Pikachu and Pichu. "
   ]
  },
  {
   "cell_type": "code",
   "execution_count": 21,
   "metadata": {},
   "outputs": [],
   "source": [
    "import numpy as np\n",
    "import matplotlib.pyplot as plt \n",
    "\n",
    "# Source reference: chatgpt, youtube, w3schools  \n",
    "# Function that takes in a single argument which is the patch to a text file\n",
    "def clean_data(textfile_path):\n",
    "    # Initializes an empty list \n",
    "    cleaned_data_list = []\n",
    "    # Opens specified file in read mode\n",
    "    with open(textfile_path, \"r\") as file:\n",
    "        # Skips the first line \n",
    "        next(file)\n",
    "        # Iterates over the remaining lines \n",
    "        for line in file:\n",
    "            # Remove () and split line by ,\n",
    "            measuresments = line.strip(\"()\\n\").split(\", \")\n",
    "            # Converts to float \n",
    "            measurements_to_float = np.array([float(m) for m in measuresments])                           \n",
    "            # Adds updated data to cleaned_data_list\n",
    "            cleaned_data_list.append(measurements_to_float)\n",
    "        # Convert cleaned_data_list to a numpy-array\n",
    "        cleaned_data_array = np.array(cleaned_data_list)\n",
    "        return cleaned_data_array\n",
    "        \n",
    "pikachu_data = clean_data(\"pikachu.txt\")\n",
    "pichu_data = clean_data(\"pichu.txt\")\n"
   ]
  },
  {
   "cell_type": "markdown",
   "metadata": {},
   "source": [
    "### Plot all points in different colors in the same window \n",
    "Defines a function to plot Pikachus and Pichus width and height with scatter. "
   ]
  },
  {
   "cell_type": "code",
   "execution_count": 28,
   "metadata": {},
   "outputs": [
    {
     "data": {
      "text/plain": [
       "<matplotlib.legend.Legend at 0x19943b13ed0>"
      ]
     },
     "execution_count": 28,
     "metadata": {},
     "output_type": "execute_result"
    },
    {
     "data": {
      "image/png": "[encoded data removed]",
      "text/plain": [
       "<Figure size 640x480 with 1 Axes>"
      ]
     },
     "metadata": {},
     "output_type": "display_data"
    }
   ],
   "source": [
    "# Function for plotting all points\n",
    "def plot_points(data, color, label):\n",
    "    # Extract x-coordinates from data \n",
    "    x = data[:, 0]\n",
    "    # Extract y-coordinates from data \n",
    "    y = data[:, 1]\n",
    "    # Scatter plot the points with specified color and label\n",
    "    plt.scatter(x,y, color=color, label=label)\n",
    "\n",
    "# Plot points where green is Pikachu and orange is Pichu\n",
    "plot_points(pikachu_data, color=\"green\", label=\"Pikachu\")\n",
    "plot_points(pichu_data, color=\"orange\", label=\"Pichu\")\n",
    "\n",
    "# Set title\n",
    "plt.title(\"Dimensions\")\n",
    "# Set label for x\n",
    "plt.xlabel (\"X : Width\")\n",
    "# Set label for y\n",
    "plt.ylabel(\"Y : Height\")\n",
    "# Add legend to the plot and position it in the lower right corner\n",
    "plt.legend(loc=\"lower right\")"
   ]
  },
  {
   "cell_type": "markdown",
   "metadata": {},
   "source": [
    "### Combining data\n",
    "Function that combines Pikachu and Pichu data, assigning a label 0 får Pikachu and 1 for Pichu. "
   ]
  },
  {
   "cell_type": "code",
   "execution_count": 23,
   "metadata": {},
   "outputs": [],
   "source": [
    "def labels_to_data(pikachu_data, pichu_data):\n",
    "    # Initializes list for storing data\n",
    "    combined_data = []\n",
    "    # Add label to pikachu_data\n",
    "    for data_point in pikachu_data:\n",
    "        combined_data.append(list(data_point) +[0])\n",
    "    # Add label to pichu_data\n",
    "    for data_point in pichu_data:\n",
    "        combined_data.append(list(data_point) +[1])\n",
    "    # Returns numpy-array with combined_data\n",
    "    return np.array(combined_data)\n",
    "\n",
    "# Call function\n",
    "combined_data = labels_to_data(pikachu_data, pichu_data)"
   ]
  },
  {
   "cell_type": "markdown",
   "metadata": {},
   "source": [
    "### Read in test points\n",
    "Reads data from text file with testpoints and store in variabel.\n",
    "Converts the string data into a list of tuples.  "
   ]
  },
  {
   "cell_type": "code",
   "execution_count": 24,
   "metadata": {},
   "outputs": [],
   "source": [
    "# Source reference: Kokchun  \n",
    "# Opens file in read mode \n",
    "with open(\"test_points.txt\", \"r\") as file:\n",
    "    # Read file and store in test_data\n",
    "    test_data = file.read()\n",
    "# Converting into a list of tuples\n",
    "test_data = eval(f\"[{test_data}]\")"
   ]
  },
  {
   "cell_type": "markdown",
   "metadata": {},
   "source": [
    "### Calculate distance between test points and training data\n",
    "Calculates the Euclidean distance between each test point and all points in combined_data. \n",
    "Finds the index of the point in combined_data that has the minimum distance to the current test point."
   ]
  },
  {
   "cell_type": "code",
   "execution_count": null,
   "metadata": {},
   "outputs": [],
   "source": [
    "for i, test_point in enumerate(test_data):\n",
    "    # Calculate the distances between each point in combined_data and each test point in test_data\n",
    "    distances = np.sqrt((combined_data[:,0] - test_point[0])**2 + (combined_data[:,1] - test_point[1])**2)\n",
    "    # Finds the index of the point in combined_data that has the minimum distance to the current test point\n",
    "    index = np.argmin(distances)\n",
    "    print(f\"Testpunkt {i+1}: Closest point is at index {index}, with distance {distances[index]}\")\n",
    "    # Determine the correct Pokémon based on the label of the closest point\n",
    "    correct_pokemon = combined_data[index][2]\n",
    "    if correct_pokemon == 0:\n",
    "        print(f\"It´s a Pikachu\")\n",
    "    else:\n",
    "        correct_pokemon\n",
    "        print(f\"It´s a Pichu\")"
   ]
  },
  {
   "cell_type": "markdown",
   "metadata": {},
   "source": [
    "### Let the user enter a test point and determine its class\n",
    "Calculates the Euclidean distance between the entered point and all points in the combined_data. \n",
    "Finds the index of the point in combined_data that has the minimum distance to the users test point."
   ]
  },
  {
   "cell_type": "code",
   "execution_count": null,
   "metadata": {},
   "outputs": [],
   "source": [
    "# Asking user for input \n",
    "try:\n",
    "    x, y = map(float, input(\"Enter width and height\").split())\n",
    "except ValueError:\n",
    "    print(\"Enter width and height separated by a space\")\n",
    "# Calculate the distances between each point in combined_data and users input\n",
    "distances = np.sqrt((combined_data[:,0] - x)**2 + (combined_data[:,1] - y)**2)\n",
    "index = np.argmin(distances)\n",
    "# Determine the correct Pokémon based on the label of the closest point\n",
    "correct_pokemon = combined_data[index][2]\n",
    "if correct_pokemon == 0:\n",
    "    print(f\"It´s a Pikachu\")\n",
    "else:\n",
    "    print(f\"It´s a Pichu\")\n"
   ]
  },
  {
   "cell_type": "markdown",
   "metadata": {},
   "source": [
    "### Classification with majority class\n",
    "Calculates the Euclidean distance between test points and all points in combined_data. \n",
    "Identifies the five nearest points to each test point and determines the majority class among their labels."
   ]
  },
  {
   "cell_type": "code",
   "execution_count": null,
   "metadata": {},
   "outputs": [],
   "source": [
    "from collections import Counter\n",
    "\n",
    "# Create an empty list to store results \n",
    "results = []\n",
    "\n",
    "for i, test_point in enumerate(test_data):\n",
    "    # Calculate the distances between each point in combined_data and each test point in test_data\n",
    "    distances = np.sqrt((combined_data[:,0] - test_point[0])**2 + (combined_data[:,1] - test_point[1])**2)\n",
    "    # Get index of the five nearest points\n",
    "    closest_index = np.argsort(distances)[:5]\n",
    "    # Get labels\n",
    "    labels = combined_data[closest_index, 2]\n",
    "    # Count labels of the nearest points\n",
    "    label_counter = Counter(labels)\n",
    "    # Determine the majority class of the nearest points\n",
    "    majority_class = label_counter.most_common(1)[0][0]\n",
    "    # Add test point index and its majority class tho the list \n",
    "    results.append((i, majority_class))\n",
    "\n",
    "# Print the results \n",
    "for test_point_index, majority_class in results:\n",
    "    if majority_class == 0:\n",
    "        print(f\"Test point {test_point_index + 1} is a Pikachu\")\n",
    "    else:\n",
    "        print(f\"Test point {test_point_index + 1} is a Pichu\")"
   ]
  }
 ],
 "metadata": {
  "kernelspec": {
   "display_name": "venv",
   "language": "python",
   "name": "python3"
  },
  "language_info": {
   "codemirror_mode": {
    "name": "ipython",
    "version": 3
   },
   "file_extension": ".py",
   "mimetype": "text/x-python",
   "name": "python",
   "nbconvert_exporter": "python",
   "pygments_lexer": "ipython3",
   "version": "3.11.7"
  }
 },
 "nbformat": 4,
 "nbformat_minor": 2
}
