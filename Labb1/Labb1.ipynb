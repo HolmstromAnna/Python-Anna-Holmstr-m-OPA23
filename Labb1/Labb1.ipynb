{
 "cells": [
  {
   "cell_type": "code",
   "execution_count": 11,
   "metadata": {},
   "outputs": [],
   "source": [
    "# Funktion för att läsa in och städa upp datan (source reference: chatgpt, youtube, w3schools ) \n",
    "def clean_data(textfile_path, identifier):\n",
    "    # Skapar ny lista för att lagra den städade datan\n",
    "    cleaned_data = []\n",
    "    with open(textfile_path, \"r\") as file:\n",
    "        # Hoppa över första raden width och height\n",
    "        next(file)\n",
    "        # Läs in resterande rader och dela de vid ,\n",
    "        for line in file:\n",
    "            # Dela upp raden vid kommatecknet och ta bort paranteserna\n",
    "            measures = line.strip(\"()\\n\").split(\", \")\n",
    "            # Konvertera varje mått från sträng till float sedan till heltal\n",
    "            measures_int = tuple(int(float(m)) for m in measures)\n",
    "            # Formaterar måtten som en sträng med paranteser runt dem\n",
    "            updated_measures = f\"({measures_int[0]}, {measures_int[1]})\"\n",
    "            # Lägg till de uppdaterade måtten i den rena datan tillsammans med identifieraren\n",
    "            cleaned_data.append((updated_measures, identifier))\n",
    "        return cleaned_data\n",
    "\n",
    "\n",
    "pikachu_data = clean_data(\"pikachu.txt\", \"pikachu\")\n",
    "pichu_data = clean_data(\"pichu.txt\", \"pichu\")\n",
    "\n",
    "\n"
   ]
  },
  {
   "cell_type": "code",
   "execution_count": 14,
   "metadata": {},
   "outputs": [],
   "source": [
    "# Öppna test_points.txt för att skriva över det som redan finns där \n",
    "with open (\"test_points.txt\", \"w\") as file:\n",
    "    # Skriv över raderna och separera med radbrytning \n",
    "    for data in pikachu_data:\n",
    "        file.write(f\"{data}\\n\")\n",
    "    for data in pichu_data:\n",
    "        file.write(f\"{data}\\n\")\n",
    "\n"
   ]
  },
  {
   "cell_type": "code",
   "execution_count": null,
   "metadata": {},
   "outputs": [],
   "source": []
  }
 ],
 "metadata": {
  "kernelspec": {
   "display_name": "venv",
   "language": "python",
   "name": "python3"
  },
  "language_info": {
   "codemirror_mode": {
    "name": "ipython",
    "version": 3
   },
   "file_extension": ".py",
   "mimetype": "text/x-python",
   "name": "python",
   "nbconvert_exporter": "python",
   "pygments_lexer": "ipython3",
   "version": "3.11.7"
  }
 },
 "nbformat": 4,
 "nbformat_minor": 2
}
